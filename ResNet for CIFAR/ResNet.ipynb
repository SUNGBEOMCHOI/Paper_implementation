{
  "nbformat": 4,
  "nbformat_minor": 0,
  "metadata": {
    "accelerator": "GPU",
    "colab": {
      "name": "ResNet.ipynb",
      "provenance": [],
      "collapsed_sections": [],
      "toc_visible": true
    },
    "kernelspec": {
      "display_name": "Python 3",
      "name": "python3"
    }
  },
  "cells": [
    {
      "cell_type": "markdown",
      "metadata": {
        "id": "cMLFVFOHcjKd"
      },
      "source": [
        "### 라이브러리 불러오기"
      ]
    },
    {
      "cell_type": "code",
      "metadata": {
        "colab": {
          "base_uri": "https://localhost:8080/"
        },
        "id": "UM2l04cVwr3z",
        "outputId": "9154ab14-cde1-4959-fd80-74213d3e7602"
      },
      "source": [
        "try:\r\n",
        "  %tensorflow_version 2.x\r\n",
        "except Exception:\r\n",
        "  pass\r\n",
        "import tensorflow as tf\r\n",
        "print(tf.__version__) # 2.4.1\r\n",
        "\r\n",
        "import numpy as np\r\n",
        "import os"
      ],
      "execution_count": null,
      "outputs": [
        {
          "output_type": "stream",
          "text": [
            "2.4.1\n"
          ],
          "name": "stdout"
        }
      ]
    },
    {
      "cell_type": "markdown",
      "metadata": {
        "id": "hTiUfi-7033z"
      },
      "source": [
        "### config\r\n",
        "네트워크, 인풋 이미지, 학습 등을 위해 필요한 기본 정보들을 선언한다."
      ]
    },
    {
      "cell_type": "code",
      "metadata": {
        "id": "3h-n7E5B05Ab"
      },
      "source": [
        "BATCH_SIZE = 64\r\n",
        "SHUFFLE_BUFFER_SIZE = 100\r\n",
        "IMAGE_WIDTH = 32\r\n",
        "IMAGE_HEIGHT = 32\r\n",
        "NUM_CLASSES = 10\r\n",
        "CHANNELS = 3"
      ],
      "execution_count": null,
      "outputs": []
    },
    {
      "cell_type": "markdown",
      "metadata": {
        "id": "HRjl9pRyyFcR"
      },
      "source": [
        "### 데이터 준비\r\n",
        "CIFAR-10 데이터셋을 로드하고, preprocessing 과정이다. CIFAR-10 데이터셋은 은 50,000개의 학습 데이터와 10,000개의 테스트 데이터로 구성된 32*32 크기의 이미지 데이터셋이다. 총 10개 class로 분류되어있다. \r\n",
        "\r\n",
        "기본적으로 모든 이미지에 resize와 per-pixel mean subtraction이 들어간다. 훈련 데이터셋에 대해서는 data augmentation을 추가로 진행한다. augmentaion은 4px padding 이후 32*32 size random crop과 horizontal flip이 들어간다."
      ]
    },
    {
      "cell_type": "code",
      "metadata": {
        "id": "k66XCgH-yF7m"
      },
      "source": [
        "from keras.datasets import cifar10\r\n",
        "\r\n",
        "def generate_datasets():\r\n",
        "  (X_train, y_train), (X_test, y_test) = cifar10.load_data() # cifar 10 데이터셋 로드\r\n",
        "  X_test, y_test = resize_and_rescale(X_test, y_test)\r\n",
        "  X_train, y_train = augment(X_train, y_train)\r\n",
        "  return X_train, y_train, X_test, y_test\r\n",
        "\r\n",
        "def resize_and_rescale(image, label):\r\n",
        "  image = tf.cast(image, tf.float32)\r\n",
        "  image = tf.image.resize(image, [IMAGE_WIDTH, IMAGE_HEIGHT])\r\n",
        "  if os.path.exists('pixel_mean_value.npy'):\r\n",
        "    mean_image = np.load('pixel_mean_value.npy')\r\n",
        "  else:\r\n",
        "    mean_image = np.mean(image, axis=0)\r\n",
        "  image -= mean_image\r\n",
        "  image = (image / 128.0)\r\n",
        "  return image, label\r\n",
        "\r\n",
        "def augment(image,label):\r\n",
        "  image, label = resize_and_rescale(image, label)\r\n",
        "  # Add 4 pixels of padding\r\n",
        "  image = tf.map_fn(lambda img: tf.image.resize_with_crop_or_pad(img, IMAGE_WIDTH + 4, IMAGE_HEIGHT + 4), image)\r\n",
        "   # Random crop back to the original size\r\n",
        "  image = tf.map_fn(lambda img: tf.image.random_crop(img, size=[IMAGE_WIDTH, IMAGE_HEIGHT, 3]), image)\r\n",
        "  image = tf.map_fn(lambda img: tf.image.random_flip_left_right(img), image)  \r\n",
        "  return image, label"
      ],
      "execution_count": null,
      "outputs": []
    },
    {
      "cell_type": "markdown",
      "metadata": {
        "id": "d2kjAFOtyGA2"
      },
      "source": [
        "### 모델 생성\r\n",
        "여기서는 20레이어로 구성된 Resnet을 사용한다. Resnet에는 Basic block으로 여러 convolution layer를 묶고, 여기에 initial mapping을 더하는 방식을 사용한다. Basic block은 2쌍 이상의 convolution과 batch normalization layer로 구성되어 있다. 아래 표를 참고하면 우리는 n=3을 넣어서 마지막 fully connected layer까지 포함하여 20개의 레이어를 쌓을 것이다. \r\n",
        "\r\n",
        "![](https://github.com/SUNGBEOMCHOI/SungBeomChoi.github.io/blob/master/assets/img/posts/2021-03-17-Resnet_Implementation/fig3.JPG?raw=true)\r\n",
        "\r\n",
        "#### 논문의 Implementaion\r\n",
        "\r\n",
        "-   Weight decay: 0.0001, momentum: 0.9\r\n",
        "-   모든 convonlution filter의 size는 3*3\r\n",
        "-   He weight initialization\r\n",
        "-   Batch normalization\r\n",
        "-   batch size : 128\r\n",
        "-   learning rate는 0.1로 시작하고, 32k와 48k iteration에 각각 10으로 나눠준다.\r\n",
        "-   마지막 부분에 global average pooling을 적용\r\n",
        "\r\n",
        "<br>\r\n",
        "\r\n",
        "#### 나의 Implementaion\r\n",
        "\r\n",
        "-   learning rate를 2epoch 이상 validation loss가 떨어지지 않으면 0.1을 곱한다. 최종 0.001 까지 떨어뜨린다.\r\n",
        "-   Early stopping을 사용하여 validation loss가 4epoch 이상 떨어지지않으면 학습을 멈춘다."
      ]
    },
    {
      "cell_type": "code",
      "metadata": {
        "id": "E80apqqV1AyF"
      },
      "source": [
        "class BasicBlock(tf.keras.layers.Layer):  \r\n",
        "  def __init__(self, filter_num, stride=1):\r\n",
        "    super(BasicBlock, self).__init__()\r\n",
        "    initializer = tf.keras.initializers.HeNormal()\r\n",
        "    l2 = tf.keras.regularizers.l2(0.0001)\r\n",
        "    self.conv1 = tf.keras.layers.Conv2D(filters=filter_num, kernel_size=(3,3), strides=stride, padding='same', kernel_regularizer=l2, kernel_initializer=initializer)\r\n",
        "    self.bn1 = tf.keras.layers.BatchNormalization()\r\n",
        "    self.conv2 = tf.keras.layers.Conv2D(filters=filter_num, kernel_size=(3,3), strides=1, padding='same', kernel_regularizer=l2, kernel_initializer=initializer)\r\n",
        "    self.bn2 = tf.keras.layers.BatchNormalization()\r\n",
        "    if stride != 1:\r\n",
        "      self.downsample = tf.keras.Sequential()\r\n",
        "      self.downsample.add(tf.keras.layers.Conv2D(filters=filter_num, kernel_size=(1,1), strides=stride, kernel_regularizer=l2, kernel_initializer=initializer))\r\n",
        "      self.downsample.add(tf.keras.layers.BatchNormalization())\r\n",
        "    else:\r\n",
        "      self.downsample = lambda x: x\r\n",
        "\r\n",
        "  def call(self, inputs, **kwargs):\r\n",
        "    residual = self.downsample(inputs)\r\n",
        "\r\n",
        "    x = self.conv1(inputs)\r\n",
        "    x = self.bn1(x)\r\n",
        "    x = tf.nn.relu(x)\r\n",
        "    x = self.conv2(x)\r\n",
        "    x = self.bn2(x)\r\n",
        "\r\n",
        "    output = tf.nn.relu(tf.keras.layers.add([residual, x]))\r\n",
        "\r\n",
        "    return output\r\n",
        "\r\n",
        "\r\n",
        "def make_basic_block_layer(filter_num, blocks, stride=1):\r\n",
        "  res_block = tf.keras.Sequential()\r\n",
        "  res_block.add(BasicBlock(filter_num, stride=stride))\r\n",
        "\r\n",
        "  for _ in range(1, blocks):\r\n",
        "    res_block.add(BasicBlock(filter_num, stride=1))\r\n",
        "\r\n",
        "  return res_block\r\n",
        "\r\n",
        "\r\n",
        "class ResNet(tf.keras.Model):  \r\n",
        "  def __init__(self, layer_params):\r\n",
        "    super(ResNet, self).__init__()\r\n",
        "    initializer = tf.keras.initializers.HeNormal()\r\n",
        "    l2 = tf.keras.regularizers.l2(0.0001)\r\n",
        "    self.conv1 = tf.keras.layers.Conv2D(filters=16, kernel_size=(3, 3), strides=1, padding='same', kernel_regularizer=l2, kernel_initializer=initializer)\r\n",
        "    self.bn1 = tf.keras.layers.BatchNormalization()\r\n",
        "    self.layer1 = make_basic_block_layer(filter_num=16, blocks=layer_params[0], stride=2)\r\n",
        "    self.layer2 = make_basic_block_layer(filter_num=32, blocks=layer_params[1], stride=2)\r\n",
        "    self.layer3 = make_basic_block_layer(filter_num=64, blocks=layer_params[2], stride=2)\r\n",
        "    self.avgpool = tf.keras.layers.GlobalAveragePooling2D()\r\n",
        "    self.fc = tf.keras.layers.Dense(units=NUM_CLASSES, activation=tf.keras.activations.softmax, kernel_regularizer=l2, kernel_initializer=initializer)\r\n",
        "\r\n",
        "  def call(self, inputs):\r\n",
        "    x = self.conv1(inputs)\r\n",
        "    x = self.bn1(x)\r\n",
        "    x = tf.nn.relu(x)\r\n",
        "    x = self.layer1(x)\r\n",
        "    x = self.layer2(x)\r\n",
        "    x = self.layer3(x)\r\n",
        "    x = self.avgpool(x)\r\n",
        "    output = self.fc(x)\r\n",
        "\r\n",
        "    return output\r\n",
        "\r\n",
        "def get_model():\r\n",
        "  model = ResNet(layer_params=[3, 3, 3])\r\n",
        "  model.build(input_shape=(None, IMAGE_WIDTH, IMAGE_HEIGHT, CHANNELS))\r\n",
        "  model.compile(optimizer=tf.keras.optimizers.SGD(lr=0.1, momentum=0.9, nesterov=False), loss='sparse_categorical_crossentropy', metrics=['accuracy'])\r\n",
        "  model.summary()\r\n",
        "  return model"
      ],
      "execution_count": null,
      "outputs": []
    },
    {
      "cell_type": "markdown",
      "metadata": {
        "id": "vYESTTPf0tp_"
      },
      "source": [
        "### 학습"
      ]
    },
    {
      "cell_type": "code",
      "metadata": {
        "id": "5x4sO1yQG0al"
      },
      "source": [
        "X_train, y_train, X_test, y_test = generate_datasets()"
      ],
      "execution_count": null,
      "outputs": []
    },
    {
      "cell_type": "code",
      "metadata": {
        "colab": {
          "base_uri": "https://localhost:8080/"
        },
        "id": "N9SLRM2cyF-W",
        "outputId": "fc3fb062-3bfb-490a-c9af-ca8e512cc3e2"
      },
      "source": [
        "print('train input shape: ', X_train.shape)\r\n",
        "print('test input shape: ', X_test.shape)\r\n",
        "print('train output shape: ', y_train.shape)\r\n",
        "print('train oupput shape: ', y_train.shape)"
      ],
      "execution_count": null,
      "outputs": [
        {
          "output_type": "stream",
          "text": [
            "train input shape:  (50000, 32, 32, 3)\n",
            "test input shape:  (10000, 32, 32, 3)\n",
            "train output shape:  (50000, 1)\n",
            "train oupput shape:  (50000, 1)\n"
          ],
          "name": "stdout"
        }
      ]
    },
    {
      "cell_type": "code",
      "metadata": {
        "colab": {
          "base_uri": "https://localhost:8080/"
        },
        "id": "heX5P93aYBF1",
        "outputId": "30a8c7b2-db42-4a26-f847-da8ce0c3b9bd"
      },
      "source": [
        "model = get_model()"
      ],
      "execution_count": null,
      "outputs": [
        {
          "output_type": "stream",
          "text": [
            "Model: \"res_net\"\n",
            "_________________________________________________________________\n",
            "Layer (type)                 Output Shape              Param #   \n",
            "=================================================================\n",
            "conv2d (Conv2D)              multiple                  448       \n",
            "_________________________________________________________________\n",
            "batch_normalization (BatchNo multiple                  64        \n",
            "_________________________________________________________________\n",
            "sequential (Sequential)      (None, 16, 16, 16)        14640     \n",
            "_________________________________________________________________\n",
            "sequential_2 (Sequential)    (None, 8, 8, 32)          52320     \n",
            "_________________________________________________________________\n",
            "sequential_4 (Sequential)    (None, 4, 4, 64)          207040    \n",
            "_________________________________________________________________\n",
            "global_average_pooling2d (Gl multiple                  0         \n",
            "_________________________________________________________________\n",
            "dense (Dense)                multiple                  650       \n",
            "=================================================================\n",
            "Total params: 275,162\n",
            "Trainable params: 273,562\n",
            "Non-trainable params: 1,600\n",
            "_________________________________________________________________\n"
          ],
          "name": "stdout"
        }
      ]
    },
    {
      "cell_type": "code",
      "metadata": {
        "colab": {
          "base_uri": "https://localhost:8080/"
        },
        "id": "SjDtY3KIIV_8",
        "outputId": "f5e3d7c3-31ef-404d-a8dc-fe9e162075f3"
      },
      "source": [
        "lr_schedule = tf.keras.callbacks.ReduceLROnPlateau(monitor='val_loss', factor=0.1, patience=2, min_lr=0.001)\r\n",
        "early_stopping = tf.keras.callbacks.EarlyStopping(patience=3, monitor='val_loss')\r\n",
        "\r\n",
        "history = model.fit(X_train, y_train, epochs=180, validation_split=0.1, batch_size=BATCH_SIZE, callbacks=[lr_schedule, early_stopping])"
      ],
      "execution_count": null,
      "outputs": [
        {
          "output_type": "stream",
          "text": [
            "Epoch 1/180\n",
            "352/352 [==============================] - 41s 18ms/step - loss: 2.0248 - accuracy: 0.3229 - val_loss: 1.9445 - val_accuracy: 0.3666\n",
            "Epoch 2/180\n",
            "352/352 [==============================] - 6s 16ms/step - loss: 1.4743 - accuracy: 0.5254 - val_loss: 1.5578 - val_accuracy: 0.5364\n",
            "Epoch 3/180\n",
            "352/352 [==============================] - 6s 16ms/step - loss: 1.2023 - accuracy: 0.6364 - val_loss: 1.3714 - val_accuracy: 0.5730\n",
            "Epoch 4/180\n",
            "352/352 [==============================] - 6s 16ms/step - loss: 1.0629 - accuracy: 0.6839 - val_loss: 1.1780 - val_accuracy: 0.6584\n",
            "Epoch 5/180\n",
            "352/352 [==============================] - 6s 16ms/step - loss: 0.9676 - accuracy: 0.7227 - val_loss: 1.1201 - val_accuracy: 0.6846\n",
            "Epoch 6/180\n",
            "352/352 [==============================] - 6s 16ms/step - loss: 0.8787 - accuracy: 0.7597 - val_loss: 1.0648 - val_accuracy: 0.7012\n",
            "Epoch 7/180\n",
            "352/352 [==============================] - 6s 16ms/step - loss: 0.8240 - accuracy: 0.7773 - val_loss: 1.3870 - val_accuracy: 0.6140\n",
            "Epoch 8/180\n",
            "352/352 [==============================] - 5s 16ms/step - loss: 0.7744 - accuracy: 0.8019 - val_loss: 1.2693 - val_accuracy: 0.6682\n",
            "Epoch 9/180\n",
            "352/352 [==============================] - 5s 16ms/step - loss: 0.6827 - accuracy: 0.8415 - val_loss: 0.8957 - val_accuracy: 0.7758\n",
            "Epoch 10/180\n",
            "352/352 [==============================] - 5s 16ms/step - loss: 0.5176 - accuracy: 0.8984 - val_loss: 0.9099 - val_accuracy: 0.7826\n",
            "Epoch 11/180\n",
            "352/352 [==============================] - 5s 16ms/step - loss: 0.4601 - accuracy: 0.9185 - val_loss: 0.9263 - val_accuracy: 0.7806\n",
            "Epoch 12/180\n",
            "352/352 [==============================] - 5s 16ms/step - loss: 0.4117 - accuracy: 0.9367 - val_loss: 0.9325 - val_accuracy: 0.7816\n"
          ],
          "name": "stdout"
        }
      ]
    },
    {
      "cell_type": "markdown",
      "metadata": {
        "id": "YLjDf1rqdNkR"
      },
      "source": [
        "### 학습 그래프 그리기\r\n",
        "10 epoch 정도 이후에는 학습이 거의 이루어지지 않고, 오버피팅된다. 최종  validation loss는 1.0정도, validation accuracy는 80% 정도 나온다. 해당 논문에서는 error rate가 8.75%인 것에 비해 잘 성능이 나오지 않았다."
      ]
    },
    {
      "cell_type": "code",
      "metadata": {
        "colab": {
          "base_uri": "https://localhost:8080/",
          "height": 283
        },
        "id": "DA4FN6gsJ_kq",
        "outputId": "33c923de-9ad7-4f19-e478-729ba8c4c4a6"
      },
      "source": [
        "import matplotlib.pyplot as plt\r\n",
        "\r\n",
        "plt.figure(figsize=(12, 4))\r\n",
        "\r\n",
        "plt.subplot(1, 2, 1)\r\n",
        "plt.plot(history.history['loss'], 'b-', label='loss')\r\n",
        "plt.plot(history.history['val_loss'], 'r--', label='val_loss')\r\n",
        "plt.ylim(0, 3)\r\n",
        "plt.xlabel('Epoch')\r\n",
        "plt.legend()\r\n",
        "\r\n",
        "plt.subplot(1, 2, 2)\r\n",
        "plt.plot(history.history['accuracy'], 'b-', label='accuracy')\r\n",
        "plt.plot(history.history['val_accuracy'], 'r--', label='val_accuracy')\r\n",
        "plt.xlabel('Epoch')\r\n",
        "plt.legend()\r\n",
        "\r\n",
        "plt.show()"
      ],
      "execution_count": null,
      "outputs": [
        {
          "output_type": "display_data",
          "data": {
            "image/png": "[encoded data removed]",
            "text/plain": [
              "<Figure size 864x288 with 2 Axes>"
            ]
          },
          "metadata": {
            "tags": [],
            "needs_background": "light"
          }
        }
      ]
    },
    {
      "cell_type": "markdown",
      "metadata": {
        "id": "1n0n5y9_LCti"
      },
      "source": [
        "### 평가\r\n",
        "Test 데이터의 정확도는 77% 정도이다. "
      ]
    },
    {
      "cell_type": "code",
      "metadata": {
        "colab": {
          "base_uri": "https://localhost:8080/"
        },
        "id": "1HEk-uX4LDRL",
        "outputId": "1c2f37cb-26c0-431c-ce9d-554811583aa0"
      },
      "source": [
        "model.evaluate(X_test, y_test, verbose=0) # [loss, accuracy]"
      ],
      "execution_count": null,
      "outputs": [
        {
          "output_type": "execute_result",
          "data": {
            "text/plain": [
              "[0.9589037895202637, 0.7718999981880188]"
            ]
          },
          "metadata": {
            "tags": []
          },
          "execution_count": 15
        }
      ]
    },
    {
      "cell_type": "markdown",
      "metadata": {
        "id": "ZOs_PPlNdYXi"
      },
      "source": [
        "### 모델 다운로드"
      ]
    },
    {
      "cell_type": "code",
      "metadata": {
        "colab": {
          "base_uri": "https://localhost:8080/",
          "height": 17
        },
        "id": "tSMYphi9AnrN",
        "outputId": "2a7182a8-399e-4eea-8b2c-a2016bd27c22"
      },
      "source": [
        "# 모델 다운로드\r\n",
        "model.save_weights('ResNet_20.h5') # 모델을 코랩에 저장\r\n",
        "\r\n",
        "from google.colab import files\r\n",
        "files.download('ResNet_20.h5')# 코랩에 저장된 모델을 로컬로 다운로드"
      ],
      "execution_count": null,
      "outputs": [
        {
          "output_type": "display_data",
          "data": {
            "application/javascript": [
              "\n",
              "    async function download(id, filename, size) {\n",
              "      if (!google.colab.kernel.accessAllowed) {\n",
              "        return;\n",
              "      }\n",
              "      const div = document.createElement('div');\n",
              "      const label = document.createElement('label');\n",
              "      label.textContent = `Downloading \"${filename}\": `;\n",
              "      div.appendChild(label);\n",
              "      const progress = document.createElement('progress');\n",
              "      progress.max = size;\n",
              "      div.appendChild(progress);\n",
              "      document.body.appendChild(div);\n",
              "\n",
              "      const buffers = [];\n",
              "      let downloaded = 0;\n",
              "\n",
              "      const channel = await google.colab.kernel.comms.open(id);\n",
              "      // Send a message to notify the kernel that we're ready.\n",
              "      channel.send({})\n",
              "\n",
              "      for await (const message of channel.messages) {\n",
              "        // Send a message to notify the kernel that we're ready.\n",
              "        channel.send({})\n",
              "        if (message.buffers) {\n",
              "          for (const buffer of message.buffers) {\n",
              "            buffers.push(buffer);\n",
              "            downloaded += buffer.byteLength;\n",
              "            progress.value = downloaded;\n",
              "          }\n",
              "        }\n",
              "      }\n",
              "      const blob = new Blob(buffers, {type: 'application/binary'});\n",
              "      const a = document.createElement('a');\n",
              "      a.href = window.URL.createObjectURL(blob);\n",
              "      a.download = filename;\n",
              "      div.appendChild(a);\n",
              "      a.click();\n",
              "      div.remove();\n",
              "    }\n",
              "  "
            ],
            "text/plain": [
              "<IPython.core.display.Javascript object>"
            ]
          },
          "metadata": {
            "tags": []
          }
        },
        {
          "output_type": "display_data",
          "data": {
            "application/javascript": [
              "download(\"download_ad98591f-818d-48ff-a365-55ea324a8f5c\", \"ResNet_20.h5\", 1215616)"
            ],
            "text/plain": [
              "<IPython.core.display.Javascript object>"
            ]
          },
          "metadata": {
            "tags": []
          }
        }
      ]
    }
  ]
}